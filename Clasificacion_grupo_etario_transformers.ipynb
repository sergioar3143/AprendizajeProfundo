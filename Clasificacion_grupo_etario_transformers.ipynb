{
  "nbformat": 4,
  "nbformat_minor": 0,
  "metadata": {
    "colab": {
      "provenance": [],
      "authorship_tag": "ABX9TyOoz1CeWnUhu+vps0tRYntZ",
      "include_colab_link": true
    },
    "kernelspec": {
      "name": "python3",
      "display_name": "Python 3"
    },
    "language_info": {
      "name": "python"
    }
  },
  "cells": [
    {
      "cell_type": "markdown",
      "metadata": {
        "id": "view-in-github",
        "colab_type": "text"
      },
      "source": [
        "<a href=\"https://colab.research.google.com/github/sergioar3143/AprendizajeProfundo/blob/main/Clasificacion_grupo_etario_transformers.ipynb\" target=\"_parent\"><img src=\"https://colab.research.google.com/assets/colab-badge.svg\" alt=\"Open In Colab\"/></a>"
      ]
    },
    {
      "cell_type": "code",
      "execution_count": null,
      "metadata": {
        "id": "vdpICYXqKp9Q"
      },
      "outputs": [],
      "source": [
        "import matplotlib.pyplot as plt\n",
        "import numpy as np\n",
        "import cv2\n",
        "from scipy.signal import correlate2d, convolve2d\n",
        "import pandas as pd\n",
        "import torch\n",
        "from torchvision import transforms\n",
        "from torch.utils.tensorboard import SummaryWriter\n",
        "from torch.utils.data import Dataset\n",
        "from torch.utils.data import DataLoader\n",
        "import os\n",
        "import PIL\n",
        "import copy\n",
        "from torch import nn\n",
        "from torch.optim import Adam\n",
        "from torch.optim import SGD\n",
        "from sklearn.model_selection import train_test_split\n",
        "import torchvision as tv\n",
        "\n",
        "##Audio\n",
        "from torchaudio.datasets import SPEECHCOMMANDS\n",
        "from tqdm.auto import trange\n",
        "import collections\n",
        "import torchaudio.transforms as T\n",
        "import librosa\n",
        "import random\n",
        "import IPython as ip\n",
        "\n",
        "# Por reproducibilidad\n",
        "torch.manual_seed(42)\n",
        "np.random.seed(42)\n",
        "\n",
        "!gdown --id 1Z1RqRo0_JiavaZw2yzZG6WETdZQ8qX86\n",
        "!gdown --id 1i1L3Yqwaio7YSOCj7ftgk8ZZchPG7dmH\n",
        "!gdown --id 1wOdja-ezstMEp81tX1a-EYkFebev4h7D\n",
        "!rm -r \"/content/FairFace\"\n",
        "!unzip \"/content/fairface-img-margin025-trainval.zip\" -d \"/content/FairFace\""
      ]
    }
  ]
}