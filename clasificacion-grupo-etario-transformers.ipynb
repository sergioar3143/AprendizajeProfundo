{
 "cells": [
  {
   "cell_type": "markdown",
   "id": "806a005a",
   "metadata": {
    "id": "view-in-github",
    "papermill": {
     "duration": 0.002564,
     "end_time": "2023-11-06T20:03:48.474895",
     "exception": false,
     "start_time": "2023-11-06T20:03:48.472331",
     "status": "completed"
    },
    "tags": []
   },
   "source": [
    "<a href=\"https://colab.research.google.com/github/sergioar3143/AprendizajeProfundo/blob/main/Clasificacion_grupo_etario_transformers.ipynb\" target=\"_parent\"><img src=\"https://colab.research.google.com/assets/colab-badge.svg\" alt=\"Open In Colab\"/></a>"
   ]
  },
  {
   "cell_type": "code",
   "execution_count": 1,
   "id": "1de53278",
   "metadata": {
    "execution": {
     "iopub.execute_input": "2023-11-06T20:03:48.481815Z",
     "iopub.status.busy": "2023-11-06T20:03:48.481391Z",
     "iopub.status.idle": "2023-11-06T20:04:11.014090Z",
     "shell.execute_reply": "2023-11-06T20:04:11.012823Z"
    },
    "id": "vdpICYXqKp9Q",
    "papermill": {
     "duration": 22.539383,
     "end_time": "2023-11-06T20:04:11.016910",
     "exception": false,
     "start_time": "2023-11-06T20:03:48.477527",
     "status": "completed"
    },
    "tags": []
   },
   "outputs": [
    {
     "name": "stdout",
     "output_type": "stream",
     "text": [
      "/bin/bash: gdown: command not found\r\n",
      "/bin/bash: gdown: command not found\r\n",
      "/bin/bash: gdown: command not found\r\n",
      "rm: cannot remove '/content/FairFace': No such file or directory\r\n",
      "unzip:  cannot find or open /content/fairface-img-margin025-trainval.zip, /content/fairface-img-margin025-trainval.zip.zip or /content/fairface-img-margin025-trainval.zip.ZIP.\r\n"
     ]
    }
   ],
   "source": [
    "import matplotlib.pyplot as plt\n",
    "import numpy as np\n",
    "import cv2\n",
    "from scipy.signal import correlate2d, convolve2d\n",
    "import pandas as pd\n",
    "import torch\n",
    "from torchvision import transforms\n",
    "from torch.utils.tensorboard import SummaryWriter\n",
    "from torch.utils.data import Dataset\n",
    "from torch.utils.data import DataLoader\n",
    "import os\n",
    "import PIL\n",
    "import copy\n",
    "from torch import nn\n",
    "from torch.optim import Adam\n",
    "from torch.optim import SGD\n",
    "from sklearn.model_selection import train_test_split\n",
    "import torchvision as tv\n",
    "\n",
    "##Audio\n",
    "from torchaudio.datasets import SPEECHCOMMANDS\n",
    "from tqdm.auto import trange\n",
    "import collections\n",
    "import torchaudio.transforms as T\n",
    "import librosa\n",
    "import random\n",
    "import IPython as ip\n",
    "\n",
    "# Por reproducibilidad\n",
    "torch.manual_seed(42)\n",
    "np.random.seed(42)\n",
    "\n",
    "!gdown --id 1Z1RqRo0_JiavaZw2yzZG6WETdZQ8qX86\n",
    "!gdown --id 1i1L3Yqwaio7YSOCj7ftgk8ZZchPG7dmH\n",
    "!gdown --id 1wOdja-ezstMEp81tX1a-EYkFebev4h7D\n",
    "!rm -r \"/content/FairFace\"\n",
    "!unzip \"/content/fairface-img-margin025-trainval.zip\" -d \"/content/FairFace\""
   ]
  },
  {
   "cell_type": "code",
   "execution_count": null,
   "id": "3bf89130",
   "metadata": {
    "papermill": {
     "duration": 0.002248,
     "end_time": "2023-11-06T20:04:11.021944",
     "exception": false,
     "start_time": "2023-11-06T20:04:11.019696",
     "status": "completed"
    },
    "tags": []
   },
   "outputs": [],
   "source": []
  }
 ],
 "metadata": {
  "kernelspec": {
   "display_name": "Python 3",
   "language": "python",
   "name": "python3"
  },
  "language_info": {
   "codemirror_mode": {
    "name": "ipython",
    "version": 3
   },
   "file_extension": ".py",
   "mimetype": "text/x-python",
   "name": "python",
   "nbconvert_exporter": "python",
   "pygments_lexer": "ipython3",
   "version": "3.10.12"
  },
  "papermill": {
   "default_parameters": {},
   "duration": 29.534241,
   "end_time": "2023-11-06T20:04:14.233680",
   "environment_variables": {},
   "exception": null,
   "input_path": "__notebook__.ipynb",
   "output_path": "__notebook__.ipynb",
   "parameters": {},
   "start_time": "2023-11-06T20:03:44.699439",
   "version": "2.4.0"
  }
 },
 "nbformat": 4,
 "nbformat_minor": 5
}
